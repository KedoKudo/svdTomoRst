{
 "cells": [
  {
   "cell_type": "markdown",
   "metadata": {
    "slideshow": {
     "slide_type": "slide"
    }
   },
   "source": [
    "# Tomography reconstruction for PUP_FF_SOFC_hires3_S2\n",
    "\n",
    "## Objective\n",
    "Sub-micron resolution with high-energy X-ray tomography\n",
    "\n",
    "## Sample\n",
    "* SOFC sample (Cathode, Electrolyte, and Anode)\n",
    "* First complete/valid scan out of the total seven\n",
    "\n",
    "## Experiment apparatus\n",
    "* $\\omega \\in [-180^\\text{o}, 180^\\text{o}]$ with $\\dot{\\omega} = 0.1^\\text{o}$\n",
    "* image resolutoin: $0.2 \\mu m / \\text{pix}$"
   ]
  },
  {
   "cell_type": "code",
   "execution_count": 5,
   "metadata": {
    "slideshow": {
     "slide_type": "skip"
    }
   },
   "outputs": [],
   "source": [
    "import numpy as np\n",
    "from IPython.display import IFrame"
   ]
  },
  {
   "cell_type": "markdown",
   "metadata": {
    "slideshow": {
     "slide_type": "slide"
    }
   },
   "source": [
    "# SVD-based noise reduction\n",
    "\n",
    "Singular value decompositionv (SVD) is a powerful tool that is commonly used for:\n",
    "* noise reduction for realtime image stream\n",
    "* lossy images compression \n",
    "* feature detection. \n",
    "\n",
    "In this section, the application of SVD based image enhancement for __tomography reconsutrction__ is investigated."
   ]
  },
  {
   "cell_type": "code",
   "execution_count": 4,
   "metadata": {
    "slideshow": {
     "slide_type": "subslide"
    }
   },
   "outputs": [],
   "source": [
    "def svd_enhance(img, eigen_cut=20):\n",
    "    U, S, V = np.linalg.svd(img, full_matrices=True)\n",
    "    eigen_cut = min(eigen_cut, U.shape[1], V.shape[0]) \n",
    "    return np.dot(U[:,:eigen_cut]*S[:eigen_cut], V[:eigen_cut,:])"
   ]
  },
  {
   "cell_type": "markdown",
   "metadata": {
    "slideshow": {
     "slide_type": "subslide"
    }
   },
   "source": [
    "> Simple example demonstrating eigen feature (eigenimg)\n",
    "\n",
    "![eigDemo](imgs/eignimg_2628.gif \"eig_400\")"
   ]
  },
  {
   "cell_type": "markdown",
   "metadata": {
    "slideshow": {
     "slide_type": "slide"
    }
   },
   "source": [
    "## SVD enhanced projections with various n_eig\n",
    "\n",
    "Left= original image , middle= eigen space, right= reconstructed from reduced eigen space (SVD method)\n",
    "\n",
    "| `n_eig = 400`   | `n_eig = 300`    |\n",
    "| -----------   | -------------  |\n",
    "| ![eigMax400](imgs/img_eigMax400.gif \"eig_400\") | ![eigMax300](imgs/img_eigMax300.gif \"eig_300\") | \n",
    "\n",
    "| `n_eig = 160`   | `n_eig = 80`    | \n",
    "| :-----------: |:-------------:|\n",
    "|![eigMax160](imgs/img_eigMax160.gif \"eig_160\") | ![eigMax080](imgs/img_eigMax080.gif \"eig_80\") |"
   ]
  },
  {
   "cell_type": "markdown",
   "metadata": {
    "slideshow": {
     "slide_type": "subslide"
    }
   },
   "source": [
    "## SVD enhanced projections with various n_eig\n",
    "\n",
    "Left= original image , middle= eigen space, right= reconstructed from reduced eigen space (SVD method)\n",
    "\n",
    "| `n_eig = 40`  | `n_eig = 20` |\n",
    "| :-----:|:-----------: |\n",
    "| ![eigMax040](imgs/img_eigMax040.gif \"eig_40\") | ![eigMax20]( imgs/img_eigMax020.gif \"eig_20\") | \n",
    "\n",
    "| `n_eig = 10`    | `n_eig = 5`  |\n",
    "| :-------------:| :-----:|\n",
    "|![eigMax010](imgs/img_eigMax010.gif \"eig_10\") | ![eigMax005](imgs/img_eigMax005.gif \"eig_5\") |"
   ]
  },
  {
   "cell_type": "markdown",
   "metadata": {
    "slideshow": {
     "slide_type": "slide"
    }
   },
   "source": [
    "## SVD enhanced projections with various n_eig\n",
    "\n",
    "* The first __20__ eigen-vectors are sufficient in capturing the main features in each image.\n",
    "* $F(I_{i,j}) = I_{i,j}^2$ is use to further suppress the noisy background. \n",
    "\n",
    "| `n_eig = 400`   | `n_eig = 300`    | `n_eig = 160`   | `n_eig = 80`    | \n",
    "| :-----------: |:-------------: | :-----------: |:-------------:|\n",
    "| ![eigMax400](imgs/img_eigMax400.gif \"eig_400\") | ![eigMax300](imgs/img_eigMax300.gif \"eig_300\") | ![eigMax160](imgs/img_eigMax160.gif \"eig_160\") | ![eigMax080](imgs/img_eigMax080.gif \"eig_80\") |\n",
    "\n",
    "| `n_eig = 40`  | `n_eig = 20`    | `n_eig = 10`    | `n_eig = 5`  |\n",
    "| :-----:|:-----------: |:-------------:| :-----:|\n",
    "| ![eigMax040](imgs/img_eigMax040.gif \"eig_40\") | ![eigMax20]( imgs/img_eigMax020.gif \"eig_20\") | ![eigMax010](imgs/img_eigMax010.gif \"eig_10\") | ![eigMax005](imgs/img_eigMax005.gif \"eig_5\") |\n"
   ]
  },
  {
   "cell_type": "code",
   "execution_count": null,
   "metadata": {},
   "outputs": [],
   "source": [
    "s"
   ]
  }
 ],
 "metadata": {
  "celltoolbar": "Slideshow",
  "kernelspec": {
   "display_name": "Python 3",
   "language": "python",
   "name": "python3"
  },
  "language_info": {
   "codemirror_mode": {
    "name": "ipython",
    "version": 3
   },
   "file_extension": ".py",
   "mimetype": "text/x-python",
   "name": "python",
   "nbconvert_exporter": "python",
   "pygments_lexer": "ipython3",
   "version": "3.6.6"
  }
 },
 "nbformat": 4,
 "nbformat_minor": 2
}
