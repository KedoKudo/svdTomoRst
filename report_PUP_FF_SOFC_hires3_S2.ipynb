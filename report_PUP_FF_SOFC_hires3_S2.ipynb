{
 "cells": [
  {
   "cell_type": "markdown",
   "metadata": {},
   "source": [
    "# Tomography reconstruction of PUP_FF_SOFC_hires3_S2\n",
    "\n",
    "The tomography data set PUP_FF_SOFC_hires3_S2 is used in this study.  __Four__ topics are discussed in this notebook:\n",
    "\n",
    "* Using SVD based method to remove noises in the projection images (after background normalization)\n",
    "* Using image processing method adaptive histogram equalization ([CLAHE](https://en.wikipedia.org/wiki/Adaptive_histogram_equalization)) to enhance the details in reconstruction results\n",
    "* Iterative method to compensate the horizontal sample jittering (locally) and drifting (globally)\n",
    "    * standard phase correlation based rotation center locator\n",
    "    * iterative global adjustment (IGA)\n",
    "    * iterative pairwise adjustment (IPA)\n",
    "* Various atttempt to compensate for the vertical sample jittering (locally) and drifting (globally)\n"
   ]
  },
  {
   "cell_type": "code",
   "execution_count": 2,
   "metadata": {},
   "outputs": [],
   "source": [
    "from IPython.display import IFrame"
   ]
  },
  {
   "cell_type": "markdown",
   "metadata": {},
   "source": [
    "## Evaluation of SVD based projection enhancement for tomography reconstruction"
   ]
  },
  {
   "cell_type": "markdown",
   "metadata": {},
   "source": [
    "Singular value decomposition is a powerful tool that is commonly used in the noise reduction for realtime image stream, lossy images compression and feature detection. \n",
    "In this section, the application of SVD based image enhancement for tomography reconsutrction is investigated.\n",
    "\n",
    "> NOTE:\n",
    "Due to large amount of GIFs used in this notebook, it might take a few minutes (depending on the network) for Binder to load all of them the browser."
   ]
  },
  {
   "cell_type": "markdown",
   "metadata": {},
   "source": [
    "### SVD enhanced projections with various n_eig\n",
    "\n",
    "Left= original image , middle= eigen space, right= reconstructed from reduced eigen space (SVD method)"
   ]
  },
  {
   "cell_type": "markdown",
   "metadata": {},
   "source": [
    "Standard View\n",
    "\n",
    "\n",
    "| `n_eig = 400`   | `n_eig = 300`    |\n",
    "| -----------   | -------------  |\n",
    "| ![eigMax400](imgs/img_eigMax400.gif \"eig_400\") | ![eigMax300](imgs/img_eigMax300.gif \"eig_300\") | \n",
    "\n",
    "| `n_eig = 160`   | `n_eig = 80`    | \n",
    "| :-----------: |:-------------:|\n",
    "|![eigMax160](imgs/img_eigMax160.gif \"eig_160\") | ![eigMax080](imgs/img_eigMax080.gif \"eig_80\") |\n",
    "\n",
    "| `n_eig = 40`  | `n_eig = 20` |\n",
    "| :-----:|:-----------: |\n",
    "| ![eigMax040](imgs/img_eigMax040.gif \"eig_40\") | ![eigMax20]( imgs/img_eigMax020.gif \"eig_20\") | \n",
    "\n",
    "| `n_eig = 10`    | `n_eig = 5`  |\n",
    "| :-------------:| :-----:|\n",
    "|![eigMax010](imgs/img_eigMax010.gif \"eig_10\") | ![eigMax005](imgs/img_eigMax005.gif \"eig_5\") |"
   ]
  },
  {
   "cell_type": "markdown",
   "metadata": {},
   "source": [
    "Compact View\n",
    "\n",
    "| `n_eig = 400`   | `n_eig = 300`    | `n_eig = 160`   | `n_eig = 80`    | \n",
    "| :-----------: |:-------------: | :-----------: |:-------------:|\n",
    "| ![eigMax400](imgs/img_eigMax400.gif \"eig_400\") | ![eigMax300](imgs/img_eigMax300.gif \"eig_300\") | ![eigMax160](imgs/img_eigMax160.gif \"eig_160\") | ![eigMax080](imgs/img_eigMax080.gif \"eig_80\") |\n",
    "\n",
    "| `n_eig = 40`  | `n_eig = 20`    | `n_eig = 10`    | `n_eig = 5`  |\n",
    "| :-----:|:-----------: |:-------------:| :-----:|\n",
    "| ![eigMax040](imgs/img_eigMax040.gif \"eig_40\") | ![eigMax20]( imgs/img_eigMax020.gif \"eig_20\") | ![eigMax010](imgs/img_eigMax010.gif \"eig_10\") | ![eigMax005](imgs/img_eigMax005.gif \"eig_5\") |"
   ]
  },
  {
   "cell_type": "markdown",
   "metadata": {},
   "source": [
    "The results above indicate that the first a few eigen features (~20) are sufficient in capturing most of the information about the sample whereas the remaining eigen features are most likely related to the various noise in the final images.\n",
    "Therefore, it is possible to use the first 20 eigen features to extract the main features (sample) of the projection images, effectively separating the sample from the various shawdowy background noises."
   ]
  },
  {
   "cell_type": "markdown",
   "metadata": {},
   "source": [
    "### Tomography reconstruction using SVD enhanced images\n",
    "\n",
    "Following the standard procedure, the rotation center of this data set can be found through phase correlation of the 180 degree pairs. \n",
    "However, the significant horizontal jittering and drifing of the sample makes it difficult of acquire clear reconstruction results.\n",
    "Therefore, iterative global adjustment (IGA), a horizontal drift adjustment method, is used to __horizontally centering the sample__ from all __3601__ ($-180^\\text{o} \\to 180^\\text{o}$, $\\delta\\omega=0.1^\\text{o}$) images.\n",
    "\n",
    "> The detailed analysis of IGA will be covered in the next section"
   ]
  },
  {
   "cell_type": "markdown",
   "metadata": {},
   "source": [
    "With the enhanced and centered projection images, the tomograhy reconstruction can be eaisly done using existing toolkit (tomopy) with the command below\n",
    "\n",
    "```python\n",
    "recon = tomopy.recon(projs, thetas, \n",
    "                     center=rot_center, \n",
    "                     algorithm=recon_config['algorithm'],\n",
    "                     filter_name=recon_config['filter'],\n",
    "                    )\n",
    "```\n",
    "where the configuration of the reconsutrction is \n",
    "```python\n",
    "recon_config = {'algorithm': 'gridrec',\n",
    "                'filter'   : 'hann',\n",
    "               }\n",
    "```"
   ]
  },
  {
   "cell_type": "markdown",
   "metadata": {},
   "source": [
    "__Tomo results using _enhanced_ and _centered_ projection images__"
   ]
  },
  {
   "cell_type": "markdown",
   "metadata": {},
   "source": [
    "Standard View\n",
    "\n",
    "| `n_eig = 400`   | `n_eig = 300`    | \n",
    "| :-----------: |:-------------: | \n",
    "| ![eigMax400](imgs/recon_conNeg_clipped_centered_eigMax400.gif \"eig_400\") | ![eigMax300](imgs/recon_conNeg_clipped_centered_eigMax300.gif \"eig_300\") | \n",
    "\n",
    "| `n_eig = 160`   | `n_eig = 80`   |\n",
    "| :-----------:   |:-------------: |\n",
    "| ![eigMax160](imgs/recon_conNeg_clipped_centered_eigMax160.gif \"eig_160\") | ![eigMax080](imgs/recon_conNeg_clipped_centered_eigMax080.gif \"eig_80\") |\n",
    "\n",
    "| `n_eig = 40`  | `n_eig = 20`    | \n",
    "| :-----:|:-----------: |\n",
    "| ![eigMax040](imgs/recon_conNeg_clipped_centered_eigMax040.gif \"eig_40\") | ![eigMax20](imgs/recon_conNeg_clipped_centered_eigMax020.gif \"eig_20\") | \n",
    "\n",
    "| `n_eig = 10`    | `n_eig = 5`  |\n",
    "| :-------------:| :-----:|\n",
    "| ![eigMax010](imgs/recon_conNeg_clipped_centered_eigMax010.gif \"eig_10\") | ![eigMax005](imgs/recon_conNeg_clipped_centered_eigMax005.gif \"eig_5\") |"
   ]
  },
  {
   "cell_type": "markdown",
   "metadata": {},
   "source": [
    "Compact View\n",
    "\n",
    "| `n_eig = 400`   | `n_eig = 300`    | `n_eig = 160`   | `n_eig = 80`    | \n",
    "| :-----------: |:-------------: | :-----------: |:-------------:|\n",
    "| ![eigMax400](imgs/recon_conNeg_clipped_centered_eigMax400.gif \"eig_400\") | ![eigMax300](imgs/recon_conNeg_clipped_centered_eigMax300.gif \"eig_300\") | ![eigMax160](imgs/recon_conNeg_clipped_centered_eigMax160.gif \"eig_160\") | ![eigMax080](imgs/recon_conNeg_clipped_centered_eigMax080.gif \"eig_80\") |\n",
    "\n",
    "| `n_eig = 40`  | `n_eig = 20`    | `n_eig = 10`    | `n_eig = 5`  |\n",
    "| :-----:|:-----------: |:-------------:| :-----:|\n",
    "| ![eigMax040](imgs/recon_conNeg_clipped_centered_eigMax040.gif \"eig_40\") | ![eigMax20](imgs/recon_conNeg_clipped_centered_eigMax020.gif \"eig_20\") | ![eigMax010](imgs/recon_conNeg_clipped_centered_eigMax010.gif \"eig_10\") | ![eigMax005](imgs/recon_conNeg_clipped_centered_eigMax005.gif \"eig_5\") |"
   ]
  },
  {
   "cell_type": "markdown",
   "metadata": {},
   "source": [
    "The results above indicate that:\n",
    "\n",
    "* The __more eigen features (vectors)__ used in the SVD enhancement, __the sharper__ the images. However, this effect is not linearly (__non-linearity__) depending no n_eig as the increase in sharpness plateaued quickly when n_eig passed 20.\n",
    "* The artifact of rings, which is a known issues in Tomopy (see the ripple features in each GIF image), are more prominent with larger n_eig.  In the extreme cases where the reconstruction is only done with the first 5 eigen features (vectors), the ring artifacts disappeared completely.\n",
    "    * it is also worth pointing out that the reconstruction quality at n_eig=5 is really low as the whole images are somewhat blurred.\n",
    "    * the preojction images reconstructed from the first 5 eigen vectors looks very different from the original images (see previous sections), but the reconstruction results are roughly the same as the other.\n",
    "* A significant portion (~10%) of the pixels in the reconstruction images have negative values.\n",
    "    * these negative pixels are natural output of the tomograhy reconstruction, therefore they should not be clipped off by force\n",
    "    * it is possible to shift and rescale the dynamic range of each image, however, this process often leads to large brightness variation along $\\omega$.\n",
    "* The CDF distribution remains very steady, regardless of the number of eigen features used for reconstruction."
   ]
  },
  {
   "cell_type": "markdown",
   "metadata": {},
   "source": [
    "Overall, the SVD based denoising method proves to be efficient in removing the unwanted background noises in the normalized images.  However, there are also several undesirable outcomes that comes with this method. \n",
    "The pros and cons of the proposed SVD based projection enhancement for tomography reconstruction is summarized in the table below.\n",
    "\n",
    "| pros | cons | \n",
    "| :---: | :---: |\n",
    "| efficient in removing unwanted noises in the normilzed images | fine details (pixel level) might lost in the process |\n",
    "| easy to implement | the computation cost (mostly memory) increase rapidly with increasing image sizes |\n",
    "| capable of capturing most features in the final reconstruction with merely 20 eigen features | the reconstruction results might look slighly blurred |\n",
    "\n",
    "> NOTE:\n",
    "The SVD based enhancement also has very little effect for the sample jittering/drifting adjustment, the details of which are covered in the next section."
   ]
  },
  {
   "cell_type": "markdown",
   "metadata": {},
   "source": [
    "## Enhance reconstruction results with adaptive histogram equilization\n",
    "\n",
    "The tomography reconstruction results from high energy xray diffraction often has low contrast, making it difficult to spot the important features through visual inspection.\n",
    "To overcome this issue, adaptive histogram equilization ([CLAHE](https://en.wikipedia.org/wiki/Adaptive_histogram_equalization)) is used to bring out the details in the reconstruction results.\n",
    "An __interactive__ example is provided in the cell below."
   ]
  },
  {
   "cell_type": "code",
   "execution_count": 17,
   "metadata": {},
   "outputs": [
    {
     "data": {
      "text/html": [
       "\n",
       "        <iframe\n",
       "            width=\"550\"\n",
       "            height=\"500\"\n",
       "            src=\"docs/demoCLAHE.html\"\n",
       "            frameborder=\"0\"\n",
       "            allowfullscreen\n",
       "        ></iframe>\n",
       "        "
      ],
      "text/plain": [
       "<IPython.lib.display.IFrame at 0x10a8f9048>"
      ]
     },
     "execution_count": 17,
     "metadata": {},
     "output_type": "execute_result"
    }
   ],
   "source": [
    "IFrame(src='docs/demoCLAHE.html', width=550, height=500)"
   ]
  },
  {
   "cell_type": "markdown",
   "metadata": {},
   "source": [
    "## Compensate for horizontal sample jittering/drifting\n",
    "\n",
    "As mentioned in previous section, significant amount of sample jittering (locally) and drifting were found along the horizontal axis. \n",
    "In other words, the rotation center for each image are not necessearily correlated anymore.\n",
    "Therefore, it is necesary to properly align samples from different images ($\\omega$) such that a universal rotation center can be defined for the reconstruction process. \n",
    "To this end, two different method are proposed here, the reconstruction results of which is compared with "
   ]
  },
  {
   "cell_type": "code",
   "execution_count": null,
   "metadata": {},
   "outputs": [],
   "source": []
  },
  {
   "cell_type": "code",
   "execution_count": null,
   "metadata": {},
   "outputs": [],
   "source": []
  }
 ],
 "metadata": {
  "kernelspec": {
   "display_name": "Python 3",
   "language": "python",
   "name": "python3"
  },
  "language_info": {
   "codemirror_mode": {
    "name": "ipython",
    "version": 3
   },
   "file_extension": ".py",
   "mimetype": "text/x-python",
   "name": "python",
   "nbconvert_exporter": "python",
   "pygments_lexer": "ipython3",
   "version": "3.6.6"
  }
 },
 "nbformat": 4,
 "nbformat_minor": 2
}
