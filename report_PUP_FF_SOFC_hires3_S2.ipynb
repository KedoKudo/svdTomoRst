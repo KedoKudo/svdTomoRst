{
 "cells": [
  {
   "cell_type": "markdown",
   "metadata": {},
   "source": [
    "# Tomography reconstruction of PUP_FF_SOFT_hires3_S2\n",
    "\n",
    "The tomography data set "
   ]
  },
  {
   "cell_type": "code",
   "execution_count": 2,
   "metadata": {},
   "outputs": [],
   "source": [
    "from IPython.display import IFrame"
   ]
  },
  {
   "cell_type": "markdown",
   "metadata": {},
   "source": [
    "## Evaluation of SVD based projection enhancement for tomography reconstruction"
   ]
  },
  {
   "cell_type": "markdown",
   "metadata": {},
   "source": [
    "Singular value decomposition is a powerful tool that is commonly used in the noise reduction for realtime image stream, lossy images compression and feature detection. \n",
    "In this short study, the application of SVD based image enhancement for tomography reconsutrction is investigated.\n",
    "\n",
    "> NOTE:\n",
    "Due to large amount of GIFs used in this notebook, it might take a few minutes (depending on the network) for Binder to load all of them the browser."
   ]
  },
  {
   "cell_type": "markdown",
   "metadata": {},
   "source": [
    "## SVD enhanced projections with various n_eig\n",
    "\n",
    "Left= original image , middle= eigen space, right= reconstructed from reduced eigen space (SVD method)"
   ]
  },
  {
   "cell_type": "markdown",
   "metadata": {},
   "source": [
    "Standard View\n",
    "\n",
    "\n",
    "| `n_eig = 400`   | `n_eig = 300`    |\n",
    "| -----------   | -------------  |\n",
    "| ![eigMax400](imgs/img_eigMax400.gif \"eig_400\") | ![eigMax300](imgs/img_eigMax300.gif \"eig_300\") | \n",
    "\n",
    "| `n_eig = 160`   | `n_eig = 80`    | \n",
    "| :-----------: |:-------------:|\n",
    "|![eigMax160](imgs/img_eigMax160.gif \"eig_160\") | ![eigMax080](imgs/img_eigMax080.gif \"eig_80\") |\n",
    "\n",
    "| `n_eig = 40`  | `n_eig = 20` |\n",
    "| :-----:|:-----------: |\n",
    "| ![eigMax040](imgs/img_eigMax040.gif \"eig_40\") | ![eigMax20]( imgs/img_eigMax020.gif \"eig_20\") | \n",
    "\n",
    "| `n_eig = 10`    | `n_eig = 5`  |\n",
    "| :-------------:| :-----:|\n",
    "|![eigMax010](imgs/img_eigMax010.gif \"eig_10\") | ![eigMax005](imgs/img_eigMax005.gif \"eig_5\") |"
   ]
  },
  {
   "cell_type": "markdown",
   "metadata": {},
   "source": [
    "Compact View\n",
    "\n",
    "| `n_eig = 400`   | `n_eig = 300`    | `n_eig = 160`   | `n_eig = 80`    | \n",
    "| :-----------: |:-------------: | :-----------: |:-------------:|\n",
    "| ![eigMax400](imgs/img_eigMax400.gif \"eig_400\") | ![eigMax300](imgs/img_eigMax300.gif \"eig_300\") | ![eigMax160](imgs/img_eigMax160.gif \"eig_160\") | ![eigMax080](imgs/img_eigMax080.gif \"eig_80\") |\n",
    "\n",
    "| `n_eig = 40`  | `n_eig = 20`    | `n_eig = 10`    | `n_eig = 5`  |\n",
    "| :-----:|:-----------: |:-------------:| :-----:|\n",
    "| ![eigMax040](imgs/img_eigMax040.gif \"eig_40\") | ![eigMax20]( imgs/img_eigMax020.gif \"eig_20\") | ![eigMax010](imgs/img_eigMax010.gif \"eig_10\") | ![eigMax005](imgs/img_eigMax005.gif \"eig_5\") |"
   ]
  },
  {
   "cell_type": "markdown",
   "metadata": {},
   "source": [
    "## SVD enhanced projections centerred via iterative phase correlation adjustment\n",
    "\n",
    "It takes roughly about 1-2 iterations to ensure that the global rotation center is close to the image center (within 0.1 pixels).  However, there still seems to be some wiggling of the sample, which also could be the result of the varying background"
   ]
  },
  {
   "cell_type": "markdown",
   "metadata": {},
   "source": [
    "Standard View\n",
    "\n",
    "| `n_eig = 400`   | `n_eig = 300`    |  \n",
    "| :-----------: |:-------------: | \n",
    "|![dist_rot_eigMax400](imgs/dis_rotcnt_eigMax400.png \"dist_rot_eigMax400\")|![dist_rot_eigMax300](imgs/dis_rotcnt_eigMax300.png \"dist_rot_eigMax300\") |\n",
    "| ![eigMax400](imgs/img_centered_eigMax400.gif \"eig_400\") | ![eigMax300](imgs/img_centered_eigMax300.gif \"eig_300\") | \n",
    "\n",
    "|`n_eig = 160`   | `n_eig = 80`    |\n",
    "|:-----------: |:-------------:|\n",
    "|![dist_rot_eigMax160](imgs/dis_rotcnt_eigMax160.png \"dist_rot_eigMax160\")|![dist_rot_eigMax080](imgs/dis_rotcnt_eigMax80.png \"dist_rot_eigMax080\") |\n",
    "|![eigMax160](imgs/img_centered_eigMax160.gif \"eig_160\") | ![eigMax080](imgs/img_centered_eigMax080.gif \"eig_80\") |\n",
    "\n",
    "| `n_eig = 40`  | `n_eig = 20`    | \n",
    "| :-----:|:-----------: |\n",
    "|![dist_rot_eigMax40](imgs/dis_rotcnt_eigMax40.png \"dist_rot_eigMax40\")|![dist_rot_eigMax20](imgs/dis_rotcnt_eigMax20.png \"dist_rot_eigMax20\") |\n",
    "| ![eigMax040](imgs/img_centered_eigMax040.gif \"eig_40\") | ![eigMax20](imgs/img_centered_eigMax020.gif \"eig_20\") |\n",
    "\n",
    "| `n_eig = 10`    | `n_eig = 5`  |\n",
    "|:-------------:| :-----:|\n",
    "| ![dist_rot_eigMax10](imgs/dis_rotcnt_eigMax10.png \"dist_rot_eigMax10\")|![dist_rot_eigMax5](imgs/dis_rotcnt_eigMax5.png \"dist_rot_eigMax5\") |\n",
    "| ![eigMax010](imgs/img_centered_eigMax010.gif \"eig_10\") | ![eigMax005](imgs/img_centered_eigMax005.gif \"eig_5\") |"
   ]
  },
  {
   "cell_type": "markdown",
   "metadata": {},
   "source": [
    "Compact View\n",
    "\n",
    "| `n_eig = 400`   | `n_eig = 300`    | `n_eig = 160`   | `n_eig = 80`    | \n",
    "| :-----------: |:-------------: | :-----------: |:-------------:|\n",
    "|![dist_rot_eigMax400](imgs/dis_rotcnt_eigMax400.png \"dist_rot_eigMax400\")|![dist_rot_eigMax300](imgs/dis_rotcnt_eigMax300.png \"dist_rot_eigMax300\") |![dist_rot_eigMax160](imgs/dis_rotcnt_eigMax160.png \"dist_rot_eigMax160\")|![dist_rot_eigMax080](imgs/dis_rotcnt_eigMax80.png \"dist_rot_eigMax080\") |\n",
    "| ![eigMax400](imgs/img_centered_eigMax400.gif \"eig_400\") | ![eigMax300](imgs/img_centered_eigMax300.gif \"eig_300\") | ![eigMax160](imgs/img_centered_eigMax160.gif \"eig_160\") | ![eigMax080](imgs/img_centered_eigMax080.gif \"eig_80\") |\n",
    "\n",
    "| `n_eig = 40`  | `n_eig = 20`    | `n_eig = 10`    | `n_eig = 5`  |\n",
    "| :-----:|:-----------: |:-------------:| :-----:|\n",
    "|![dist_rot_eigMax40](imgs/dis_rotcnt_eigMax40.png \"dist_rot_eigMax40\")|![dist_rot_eigMax20](imgs/dis_rotcnt_eigMax20.png \"dist_rot_eigMax20\") |![dist_rot_eigMax10](imgs/dis_rotcnt_eigMax10.png \"dist_rot_eigMax10\")|![dist_rot_eigMax5](imgs/dis_rotcnt_eigMax5.png \"dist_rot_eigMax5\") |\n",
    "| ![eigMax040](imgs/img_centered_eigMax040.gif \"eig_40\") | ![eigMax20](imgs/img_centered_eigMax020.gif \"eig_20\") | ![eigMax010](imgs/img_centered_eigMax010.gif \"eig_10\") | ![eigMax005](imgs/img_centered_eigMax005.gif \"eig_5\") |"
   ]
  },
  {
   "cell_type": "markdown",
   "metadata": {},
   "source": [
    "## Additional adjustment on the projection images\n",
    "\n",
    "The SVD enhancement method introdced some negative values in the projection images (even with n_eig=400, aka all eigen vectors), which is expected since SVD is often used as a losy image compression method.\n",
    "However, this does raise question whether the negative values introduced by the SVD enhancement leads to the negative values observed in the final reconstruction images.\n",
    "In this section, projection images from each case (various n_eig) are compared with the the corresponding ones with the negative value clipped using \n",
    "\n",
    "```python\n",
    "image[image<0] = 0\n",
    "```"
   ]
  },
  {
   "cell_type": "markdown",
   "metadata": {},
   "source": [
    "Standard View\n",
    "\n",
    "| `n_eig = 400`   | `n_eig = 300` | \n",
    "| :-----------: |:-------------: | \n",
    "| ![eigMax400](imgs/img_clipped_centered_eigMax400.gif \"eig_400\") | ![eigMax300](imgs/img_clipped_centered_eigMax300.gif \"eig_300\") | \n",
    "\n",
    "| `n_eig = 160`   | `n_eig = 80`    | \n",
    "| :-----------: |:-------------:|\n",
    "|![eigMax160](imgs/img_clipped_centered_eigMax160.gif \"eig_160\") | ![eigMax080](imgs/img_clipped_centered_eigMax080.gif \"eig_80\") |\n",
    "\n",
    "| `n_eig = 40`  | `n_eig = 20`    | \n",
    "| :-----:|:-----------: |\n",
    "| ![eigMax040](imgs/img_clipped_centered_eigMax040.gif \"eig_40\") | ![eigMax20](imgs/img_clipped_centered_eigMax020.gif \"eig_20\") | \n",
    "\n",
    "| `n_eig = 10`    | `n_eig = 5`  |\n",
    "| :-------------:| :-----:|\n",
    "| ![eigMax010](imgs/img_clipped_centered_eigMax010.gif \"eig_10\") | ![eigMax005](imgs/img_clipped_centered_eigMax005.gif \"eig_5\") |"
   ]
  },
  {
   "cell_type": "markdown",
   "metadata": {},
   "source": [
    "Compact View\n",
    "\n",
    "| `n_eig = 400`   | `n_eig = 300`    | `n_eig = 160`   | `n_eig = 80`    | \n",
    "| :-----------: |:-------------: | :-----------: |:-------------:|\n",
    "| ![eigMax400](imgs/img_clipped_centered_eigMax400.gif \"eig_400\") | ![eigMax300](imgs/img_clipped_centered_eigMax300.gif \"eig_300\") | ![eigMax160](imgs/img_clipped_centered_eigMax160.gif \"eig_160\") | ![eigMax080](imgs/img_clipped_centered_eigMax080.gif \"eig_80\") |\n",
    "\n",
    "| `n_eig = 40`  | `n_eig = 20`    | `n_eig = 10`    | `n_eig = 5`  |\n",
    "| :-----:|:-----------: |:-------------:| :-----:|\n",
    "| ![eigMax040](imgs/img_clipped_centered_eigMax040.gif \"eig_40\") | ![eigMax20](imgs/img_clipped_centered_eigMax020.gif \"eig_20\") | ![eigMax010](imgs/img_clipped_centered_eigMax010.gif \"eig_10\") | ![eigMax005](imgs/img_clipped_centered_eigMax005.gif \"eig_5\") |"
   ]
  },
  {
   "cell_type": "markdown",
   "metadata": {},
   "source": [
    "Clipping off the negative values really helps improve the local contrast of the proejction images, making the features in the sample more prominent to the viewer.  However these benefits diminishes with increasing n_eig, which is most due to the fact that lower n_eig has an intrinsic feature of reducing the negative values (see the CDF of each corresponding image)."
   ]
  },
  {
   "cell_type": "markdown",
   "metadata": {},
   "source": [
    "## Comparison of tomography reconstruction results\n",
    "\n",
    "With the enhanced and centered projection images, the tomograhy reconstruction can be eaisly done using existing toolkit (tomopy) with the command below\n",
    "\n",
    "```python\n",
    "recon = tomopy.recon(projs, thetas, \n",
    "                     center=rot_center, \n",
    "                     algorithm=recon_config['algorithm'],\n",
    "                     filter_name=recon_config['filter'],\n",
    "                    )\n",
    "```\n",
    "where the configuration of the reconsutrction is \n",
    "```python\n",
    "recon_config = {'algorithm': 'gridrec',\n",
    "                'filter'   : 'hann',\n",
    "               }\n",
    "```"
   ]
  },
  {
   "cell_type": "markdown",
   "metadata": {},
   "source": [
    "Since the physical meaning of the negative pixels introduced by the SVD enhanement is still unclear, it would be dangerous to simply assume these negative pixels are safe to remove.  Therefore, parallel tomography reconstructions were perform for each case (varying n_eig), one using the enhanced and centered projection images while the other using the enhance and centered proejection images with negative pixels removed."
   ]
  },
  {
   "cell_type": "markdown",
   "metadata": {},
   "source": [
    "### Tomo results using _enhanced_ and _centered_ projection images"
   ]
  },
  {
   "cell_type": "markdown",
   "metadata": {},
   "source": [
    "Standard View\n",
    "\n",
    "| `n_eig = 400`   | `n_eig = 300`    | \n",
    "| :-----------: |:-------------: | \n",
    "| ![eigMax400](imgs/recon_conNeg_clipped_centered_eigMax400.gif \"eig_400\") | ![eigMax300](imgs/recon_conNeg_clipped_centered_eigMax300.gif \"eig_300\") | \n",
    "\n",
    "| `n_eig = 160`   | `n_eig = 80`   |\n",
    "| :-----------:   |:-------------: |\n",
    "| ![eigMax160](imgs/recon_conNeg_clipped_centered_eigMax160.gif \"eig_160\") | ![eigMax080](imgs/recon_conNeg_clipped_centered_eigMax080.gif \"eig_80\") |\n",
    "\n",
    "| `n_eig = 40`  | `n_eig = 20`    | \n",
    "| :-----:|:-----------: |\n",
    "| ![eigMax040](imgs/recon_conNeg_clipped_centered_eigMax040.gif \"eig_40\") | ![eigMax20](imgs/recon_conNeg_clipped_centered_eigMax020.gif \"eig_20\") | \n",
    "\n",
    "| `n_eig = 10`    | `n_eig = 5`  |\n",
    "| :-------------:| :-----:|\n",
    "| ![eigMax010](imgs/recon_conNeg_clipped_centered_eigMax010.gif \"eig_10\") | ![eigMax005](imgs/recon_conNeg_clipped_centered_eigMax005.gif \"eig_5\") |"
   ]
  },
  {
   "cell_type": "markdown",
   "metadata": {},
   "source": [
    "Compact View\n",
    "\n",
    "| `n_eig = 400`   | `n_eig = 300`    | `n_eig = 160`   | `n_eig = 80`    | \n",
    "| :-----------: |:-------------: | :-----------: |:-------------:|\n",
    "| ![eigMax400](imgs/recon_conNeg_clipped_centered_eigMax400.gif \"eig_400\") | ![eigMax300](imgs/recon_conNeg_clipped_centered_eigMax300.gif \"eig_300\") | ![eigMax160](imgs/recon_conNeg_clipped_centered_eigMax160.gif \"eig_160\") | ![eigMax080](imgs/recon_conNeg_clipped_centered_eigMax080.gif \"eig_80\") |\n",
    "\n",
    "| `n_eig = 40`  | `n_eig = 20`    | `n_eig = 10`    | `n_eig = 5`  |\n",
    "| :-----:|:-----------: |:-------------:| :-----:|\n",
    "| ![eigMax040](imgs/recon_conNeg_clipped_centered_eigMax040.gif \"eig_40\") | ![eigMax20](imgs/recon_conNeg_clipped_centered_eigMax020.gif \"eig_20\") | ![eigMax010](imgs/recon_conNeg_clipped_centered_eigMax010.gif \"eig_10\") | ![eigMax005](imgs/recon_conNeg_clipped_centered_eigMax005.gif \"eig_5\") |"
   ]
  },
  {
   "cell_type": "markdown",
   "metadata": {},
   "source": [
    "There are serveral interesting results here:\n",
    "\n",
    "* The __more eigen features (vectors)__ used in the SVD enhancement, __the sharper__ the images. However, this effect is not linearly (__non-linearity__) depending no n_eig as the increase in sharpness plateaued quickly when n_eig passed 20.\n",
    "* The artifact of rings, which is a known issues in Tomopy (see the ripple features in each GIF image), are more prominent with larger n_eig.  In the extreme cases where the reconstruction is only done with the first 5 eigen features (vectors), the ring artifacts disappeared completely.\n",
    "    * it is also worht pointing out that the reconstruction quality at n_eig=5 is really low as the whole images are somewhat blurred.\n",
    "    * the preojction images reconstructed from the first 5 eigen vectors looks very different from the original images (see previous sections), but the reconstruction results are roughly the same as the other.\n",
    "* A significant portion (~10%) of the pixels in the reconstruction images have negative values.\n",
    "* The CDF distribution remains very steady, regardless of the number of eigen features used for reconstruction."
   ]
  },
  {
   "cell_type": "markdown",
   "metadata": {},
   "source": [
    "### Tomo results using _enhanced_, _centered_, and _clipped_ projection images"
   ]
  },
  {
   "cell_type": "markdown",
   "metadata": {},
   "source": [
    "Standar View\n",
    "\n",
    "| `n_eig = 400`   | `n_eig = 300`    | \n",
    "| :-----------: |:-------------: | \n",
    "| ![eigMax400](imgs/recon_sinNeg_clipped_centered_eigMax400.gif \"eig_400\") | ![eigMax300](imgs/recon_sinNeg_clipped_centered_eigMax300.gif \"eig_300\") | \n",
    "\n",
    "| `n_eig = 160`   | `n_eig = 80` |\n",
    "| :-----------: |:-------------:|\n",
    "| ![eigMax160](imgs/recon_sinNeg_clipped_centered_eigMax160.gif \"eig_160\") | ![eigMax080](imgs/recon_sinNeg_clipped_centered_eigMax080.gif \"eig_80\") |\n",
    "\n",
    "| `n_eig = 40`  | `n_eig = 20`    |\n",
    "| :-----:|:-----------: |\n",
    "| ![eigMax040](imgs/recon_sinNeg_clipped_centered_eigMax040.gif \"eig_40\") | ![eigMax20](imgs/recon_sinNeg_clipped_centered_eigMax020.gif \"eig_20\") | \n",
    "\n",
    "| `n_eig = 10`    | `n_eig = 5`  |\n",
    "| :-------------:| :-----: |\n",
    "| ![eigMax010](imgs/recon_sinNeg_clipped_centered_eigMax010.gif \"eig_10\") | ![eigMax005](imgs/recon_sinNeg_clipped_centered_eigMax005.gif \"eig_5\") |"
   ]
  },
  {
   "cell_type": "markdown",
   "metadata": {},
   "source": [
    "Compact View\n",
    "\n",
    "| `n_eig = 400`   | `n_eig = 300`    | `n_eig = 160`   | `n_eig = 80`    | \n",
    "| :-----------: |:-------------: | :-----------: |:-------------:|\n",
    "| ![eigMax400](imgs/recon_sinNeg_clipped_centered_eigMax400.gif \"eig_400\") | ![eigMax300](imgs/recon_sinNeg_clipped_centered_eigMax300.gif \"eig_300\") | ![eigMax160](imgs/recon_sinNeg_clipped_centered_eigMax160.gif \"eig_160\") | ![eigMax080](imgs/recon_sinNeg_clipped_centered_eigMax080.gif \"eig_80\") |\n",
    "\n",
    "| `n_eig = 40`  | `n_eig = 20`    | `n_eig = 10`    | `n_eig = 5`  |\n",
    "| :-----:|:-----------: |:-------------:| :-----:|\n",
    "| ![eigMax040](imgs/recon_sinNeg_clipped_centered_eigMax040.gif \"eig_40\") | ![eigMax20](imgs/recon_sinNeg_clipped_centered_eigMax020.gif \"eig_20\") | ![eigMax010](imgs/recon_sinNeg_clipped_centered_eigMax010.gif \"eig_10\") | ![eigMax005](imgs/recon_sinNeg_clipped_centered_eigMax005.gif \"eig_5\") |"
   ]
  },
  {
   "cell_type": "markdown",
   "metadata": {},
   "source": [
    "Here are some interesting points that can be derived from the results shown here:\n",
    "\n",
    "* The negative pixels in the projection images used for this section are removed, yet there are still a sizable amout of pixels (~10%) in the reconstruction results containing negative values/intensities.\n",
    "    * This result indicates that the negative pixels in the proejction images are not the cause of the negative pixels observed in the reconstruction results. \n",
    "    * In other words, the negative pixeles are the natural product of the tomography reconstruction.\n",
    "* The CDF of all cases (varying n_eig) shows that the number of negative pixels are not affected by the number of eigen features selected for reconstruction.\n",
    "    * The negative pixels are not artifacts from the SVD enhancement, therefore it is not safe to clipped them off\n",
    "* The clipping of negative pixels in the projection images has little effect on the final reconstruction results."
   ]
  },
  {
   "cell_type": "code",
   "execution_count": null,
   "metadata": {},
   "outputs": [],
   "source": []
  },
  {
   "cell_type": "code",
   "execution_count": null,
   "metadata": {},
   "outputs": [],
   "source": []
  },
  {
   "cell_type": "code",
   "execution_count": null,
   "metadata": {},
   "outputs": [],
   "source": []
  },
  {
   "cell_type": "code",
   "execution_count": 16,
   "metadata": {},
   "outputs": [
    {
     "data": {
      "text/html": [
       "\n",
       "        <iframe\n",
       "            width=\"550\"\n",
       "            height=\"500\"\n",
       "            src=\"docs/demoCLAHE.html\"\n",
       "            frameborder=\"0\"\n",
       "            allowfullscreen\n",
       "        ></iframe>\n",
       "        "
      ],
      "text/plain": [
       "<IPython.lib.display.IFrame at 0x10a8d1c50>"
      ]
     },
     "execution_count": 16,
     "metadata": {},
     "output_type": "execute_result"
    }
   ],
   "source": [
    "IFrame(src='docs/demoCLAHE.html', width=550, height=500)"
   ]
  },
  {
   "cell_type": "code",
   "execution_count": null,
   "metadata": {},
   "outputs": [],
   "source": []
  }
 ],
 "metadata": {
  "kernelspec": {
   "display_name": "Python 3",
   "language": "python",
   "name": "python3"
  },
  "language_info": {
   "codemirror_mode": {
    "name": "ipython",
    "version": 3
   },
   "file_extension": ".py",
   "mimetype": "text/x-python",
   "name": "python",
   "nbconvert_exporter": "python",
   "pygments_lexer": "ipython3",
   "version": "3.6.6"
  }
 },
 "nbformat": 4,
 "nbformat_minor": 2
}
